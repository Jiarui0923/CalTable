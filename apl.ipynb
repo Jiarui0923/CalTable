{
 "cells": [
  {
   "cell_type": "code",
   "execution_count": null,
   "metadata": {},
   "outputs": [],
   "source": [
    "# Installation\n",
    "!pip install -U caltable --index-url https://jellyroll.cs.tulane.edu/pypi/simple/\n",
    "# or\n",
    "!pip install ./caltable-1.0.1.zip"
   ]
  },
  {
   "cell_type": "code",
   "execution_count": 1,
   "metadata": {},
   "outputs": [],
   "source": [
    "import caltable as ct\n",
    "import os\n",
    "import io\n",
    "import pandas as pd\n",
    "from pathlib import Path\n",
    "workbench = ct.WorkBench.load('apl.workbench.json')"
   ]
  },
  {
   "cell_type": "code",
   "execution_count": 12,
   "metadata": {},
   "outputs": [],
   "source": [
    "# Setup input and output path here\n",
    "path = './data' # The path to the folder storing your PDB files\n",
    "store_path = './output' # Where to store the outputs\n",
    "\n",
    "table = ct.DataTable([{'path':str(file)} for file in Path(path).glob('*.pdb') ])\n",
    "# Change parameter here\n",
    "table[:, 'chain'] = 'A' # Select chain\n",
    "table[:, 'sampler'] = 'exhaustive' # Choose sampling method\n",
    "table[:, 'sconf_weight'] = 1.0 # Select entropy factor\n",
    "table[:, 'mer_size'] = 15 # Set mer size for both MHC prediction and APL prediction\n",
    "table[:, 'hop'] = 7# Set hop size (mer overlap) for both MHC prediction and APL prediction"
   ]
  },
  {
   "cell_type": "code",
   "execution_count": null,
   "metadata": {},
   "outputs": [
    {
     "name": "stdout",
     "output_type": "stream",
     "text": [
      "[0.1s] ✓ Task (APL) Antigen Processing Likelihood Finished.ed.ction factors Finished."
     ]
    }
   ],
   "source": [
    "# Run this to only compute APL\n",
    "table = workbench['apl-only'](table)"
   ]
  },
  {
   "cell_type": "code",
   "execution_count": 13,
   "metadata": {},
   "outputs": [
    {
     "name": "stdout",
     "output_type": "stream",
     "text": [
      "[0.1s] ✓ Task Weighted Combine APL And MHC Finished..ished.ed.ction factors Finished.."
     ]
    }
   ],
   "source": [
    "# Run this to compute both MHC & APL\n",
    "table[:, 'alleles'] = 'HLA-DRB1*03:01,HLA-DRB1*07:01,HLA-DRB1*15:01' # Select Alleles, alleles separate by ,\n",
    "\n",
    "table = workbench['apl-mhc'](table)"
   ]
  },
  {
   "cell_type": "code",
   "execution_count": 15,
   "metadata": {},
   "outputs": [
    {
     "data": {
      "text/html": [
       "<div>\n",
       "<style scoped>\n",
       "    .dataframe tbody tr th:only-of-type {\n",
       "        vertical-align: middle;\n",
       "    }\n",
       "\n",
       "    .dataframe tbody tr th {\n",
       "        vertical-align: top;\n",
       "    }\n",
       "\n",
       "    .dataframe thead th {\n",
       "        text-align: right;\n",
       "    }\n",
       "</style>\n",
       "<table border=\"1\" class=\"dataframe\">\n",
       "  <thead>\n",
       "    <tr style=\"text-align: right;\">\n",
       "      <th></th>\n",
       "      <th>path</th>\n",
       "      <th>chain</th>\n",
       "      <th>sampler</th>\n",
       "      <th>sconf_weight</th>\n",
       "      <th>mer_size</th>\n",
       "      <th>hop</th>\n",
       "      <th>alleles</th>\n",
       "      <th>pdb_id</th>\n",
       "      <th>pdb</th>\n",
       "      <th>corex</th>\n",
       "      <th>sasa</th>\n",
       "      <th>bfactor</th>\n",
       "      <th>sequence</th>\n",
       "      <th>blast</th>\n",
       "      <th>entropy</th>\n",
       "      <th>residue_likelihood</th>\n",
       "      <th>peptide_likelihood</th>\n",
       "      <th>aggregate</th>\n",
       "      <th>mhc</th>\n",
       "      <th>combined</th>\n",
       "    </tr>\n",
       "  </thead>\n",
       "  <tbody>\n",
       "    <tr>\n",
       "      <th>0</th>\n",
       "      <td>data\\5jhw.pdb</td>\n",
       "      <td>A</td>\n",
       "      <td>exhaustive</td>\n",
       "      <td>1.0</td>\n",
       "      <td>15</td>\n",
       "      <td>7</td>\n",
       "      <td>string:HLA-DRB1*03:01,H...(44)</td>\n",
       "      <td>5jhw</td>\n",
       "      <td>PDB:932 lines</td>\n",
       "      <td>COREX (ln(kf)) Values:[-10.76504924339339, -10...</td>\n",
       "      <td>SASA Values:[1.3160278728943418, 0.77842180516...</td>\n",
       "      <td>B-Factor Values:[77.93, 65.02, 61.81]...(111)</td>\n",
       "      <td>Protein Amio Acid Sequence:NLGLDCDEHSSESRCC......</td>\n",
       "      <td>FASTA Sequence:&gt;UniRef50_K7F502...(64300)</td>\n",
       "      <td>numarray:[0.6059239568702086, 0.95122507874089...</td>\n",
       "      <td>Residue Likelihood:[0.0, 0.1033110698885027, 0...</td>\n",
       "      <td>Peptide Likelihood:[0.08115424039233941, 0.0, ...</td>\n",
       "      <td>Residue Level Aggregated Score:[-0.12601320768...</td>\n",
       "      <td>string:{\"Peptide\":{\"0\":...(775)</td>\n",
       "      <td>JSON File:{\"Peptide\":{\"0\":...(811)</td>\n",
       "    </tr>\n",
       "    <tr>\n",
       "      <th>1</th>\n",
       "      <td>data\\6cdb.pdb</td>\n",
       "      <td>A</td>\n",
       "      <td>exhaustive</td>\n",
       "      <td>1.0</td>\n",
       "      <td>15</td>\n",
       "      <td>7</td>\n",
       "      <td>string:HLA-DRB1*03:01,H...(44)</td>\n",
       "      <td>6cdb</td>\n",
       "      <td>PDB:821 lines</td>\n",
       "      <td>COREX (ln(kf)) Values:[-5.000873006361232, -5....</td>\n",
       "      <td>SASA Values:[1.2696183006775639, 0.84657581949...</td>\n",
       "      <td>B-Factor Values:[79.72, 72.64, 64.68]...(97)</td>\n",
       "      <td>Protein Amio Acid Sequence:SEINTDTLERVTEIFK......</td>\n",
       "      <td>FASTA Sequence:&gt;UniRef50_Q2FWB0...(54949)</td>\n",
       "      <td>numarray:[0.5629006142273706, 0.73932470404379...</td>\n",
       "      <td>Residue Likelihood:[0.0, 0.0, 0.0]...(97)</td>\n",
       "      <td>Peptide Likelihood:[0.0, 0.16078940049011084, ...</td>\n",
       "      <td>Residue Level Aggregated Score:[-1.33188812909...</td>\n",
       "      <td>string:{\"Peptide\":{\"0\":...(660)</td>\n",
       "      <td>JSON File:{\"Peptide\":{\"0\":...(897)</td>\n",
       "    </tr>\n",
       "  </tbody>\n",
       "</table>\n",
       "</div>"
      ],
      "text/plain": [
       "            path chain     sampler sconf_weight mer_size hop  \\\n",
       "0  data\\5jhw.pdb     A  exhaustive          1.0       15   7   \n",
       "1  data\\6cdb.pdb     A  exhaustive          1.0       15   7   \n",
       "\n",
       "                          alleles pdb_id            pdb  \\\n",
       "0  string:HLA-DRB1*03:01,H...(44)   5jhw  PDB:932 lines   \n",
       "1  string:HLA-DRB1*03:01,H...(44)   6cdb  PDB:821 lines   \n",
       "\n",
       "                                               corex  \\\n",
       "0  COREX (ln(kf)) Values:[-10.76504924339339, -10...   \n",
       "1  COREX (ln(kf)) Values:[-5.000873006361232, -5....   \n",
       "\n",
       "                                                sasa  \\\n",
       "0  SASA Values:[1.3160278728943418, 0.77842180516...   \n",
       "1  SASA Values:[1.2696183006775639, 0.84657581949...   \n",
       "\n",
       "                                         bfactor  \\\n",
       "0  B-Factor Values:[77.93, 65.02, 61.81]...(111)   \n",
       "1   B-Factor Values:[79.72, 72.64, 64.68]...(97)   \n",
       "\n",
       "                                            sequence  \\\n",
       "0  Protein Amio Acid Sequence:NLGLDCDEHSSESRCC......   \n",
       "1  Protein Amio Acid Sequence:SEINTDTLERVTEIFK......   \n",
       "\n",
       "                                       blast  \\\n",
       "0  FASTA Sequence:>UniRef50_K7F502...(64300)   \n",
       "1  FASTA Sequence:>UniRef50_Q2FWB0...(54949)   \n",
       "\n",
       "                                             entropy  \\\n",
       "0  numarray:[0.6059239568702086, 0.95122507874089...   \n",
       "1  numarray:[0.5629006142273706, 0.73932470404379...   \n",
       "\n",
       "                                  residue_likelihood  \\\n",
       "0  Residue Likelihood:[0.0, 0.1033110698885027, 0...   \n",
       "1          Residue Likelihood:[0.0, 0.0, 0.0]...(97)   \n",
       "\n",
       "                                  peptide_likelihood  \\\n",
       "0  Peptide Likelihood:[0.08115424039233941, 0.0, ...   \n",
       "1  Peptide Likelihood:[0.0, 0.16078940049011084, ...   \n",
       "\n",
       "                                           aggregate  \\\n",
       "0  Residue Level Aggregated Score:[-0.12601320768...   \n",
       "1  Residue Level Aggregated Score:[-1.33188812909...   \n",
       "\n",
       "                               mhc                            combined  \n",
       "0  string:{\"Peptide\":{\"0\":...(775)  JSON File:{\"Peptide\":{\"0\":...(811)  \n",
       "1  string:{\"Peptide\":{\"0\":...(660)  JSON File:{\"Peptide\":{\"0\":...(897)  "
      ]
     },
     "execution_count": 15,
     "metadata": {},
     "output_type": "execute_result"
    }
   ],
   "source": [
    "table"
   ]
  },
  {
   "cell_type": "code",
   "execution_count": 14,
   "metadata": {},
   "outputs": [
    {
     "ename": "ValueError",
     "evalue": "All arrays must be of the same length",
     "output_type": "error",
     "traceback": [
      "\u001b[1;31m---------------------------------------------------------------------------\u001b[0m",
      "\u001b[1;31mValueError\u001b[0m                                Traceback (most recent call last)",
      "Cell \u001b[1;32mIn[14], line 12\u001b[0m\n\u001b[0;32m      2\u001b[0m \u001b[38;5;28;01mfor\u001b[39;00m row \u001b[38;5;129;01min\u001b[39;00m \u001b[38;5;28mrange\u001b[39m(\u001b[38;5;28mlen\u001b[39m(table)):\n\u001b[0;32m      3\u001b[0m     residue_data \u001b[38;5;241m=\u001b[39m {\n\u001b[0;32m      4\u001b[0m         \u001b[38;5;124m'\u001b[39m\u001b[38;5;124mresidue\u001b[39m\u001b[38;5;124m'\u001b[39m: \u001b[38;5;28mlist\u001b[39m(table[row, \u001b[38;5;124m'\u001b[39m\u001b[38;5;124msequence\u001b[39m\u001b[38;5;124m'\u001b[39m]\u001b[38;5;241m.\u001b[39mvalue),\n\u001b[0;32m      5\u001b[0m         \u001b[38;5;124m'\u001b[39m\u001b[38;5;124mbfactor\u001b[39m\u001b[38;5;124m'\u001b[39m: table[row, \u001b[38;5;124m'\u001b[39m\u001b[38;5;124mbfactor\u001b[39m\u001b[38;5;124m'\u001b[39m]\u001b[38;5;241m.\u001b[39mvalue,\n\u001b[1;32m   (...)\u001b[0m\n\u001b[0;32m     10\u001b[0m         \u001b[38;5;124m'\u001b[39m\u001b[38;5;124mlikelihood\u001b[39m\u001b[38;5;124m'\u001b[39m: table[row, \u001b[38;5;124m'\u001b[39m\u001b[38;5;124mresidue_likelihood\u001b[39m\u001b[38;5;124m'\u001b[39m]\u001b[38;5;241m.\u001b[39mvalue\n\u001b[0;32m     11\u001b[0m     }\n\u001b[1;32m---> 12\u001b[0m     _df \u001b[38;5;241m=\u001b[39m \u001b[43mpd\u001b[49m\u001b[38;5;241;43m.\u001b[39;49m\u001b[43mDataFrame\u001b[49m\u001b[43m(\u001b[49m\u001b[43mresidue_data\u001b[49m\u001b[43m)\u001b[49m\n\u001b[0;32m     13\u001b[0m     _id \u001b[38;5;241m=\u001b[39m table[row, \u001b[38;5;124m'\u001b[39m\u001b[38;5;124mpdb_id\u001b[39m\u001b[38;5;124m'\u001b[39m]\u001b[38;5;241m.\u001b[39mvalue\n\u001b[0;32m     14\u001b[0m     _base \u001b[38;5;241m=\u001b[39m os\u001b[38;5;241m.\u001b[39mpath\u001b[38;5;241m.\u001b[39mjoin(store_path, _id)\n",
      "File \u001b[1;32mc:\\Users\\11056\\anaconda3\\envs\\packdev\\Lib\\site-packages\\pandas\\core\\frame.py:778\u001b[0m, in \u001b[0;36mDataFrame.__init__\u001b[1;34m(self, data, index, columns, dtype, copy)\u001b[0m\n\u001b[0;32m    772\u001b[0m     mgr \u001b[38;5;241m=\u001b[39m \u001b[38;5;28mself\u001b[39m\u001b[38;5;241m.\u001b[39m_init_mgr(\n\u001b[0;32m    773\u001b[0m         data, axes\u001b[38;5;241m=\u001b[39m{\u001b[38;5;124m\"\u001b[39m\u001b[38;5;124mindex\u001b[39m\u001b[38;5;124m\"\u001b[39m: index, \u001b[38;5;124m\"\u001b[39m\u001b[38;5;124mcolumns\u001b[39m\u001b[38;5;124m\"\u001b[39m: columns}, dtype\u001b[38;5;241m=\u001b[39mdtype, copy\u001b[38;5;241m=\u001b[39mcopy\n\u001b[0;32m    774\u001b[0m     )\n\u001b[0;32m    776\u001b[0m \u001b[38;5;28;01melif\u001b[39;00m \u001b[38;5;28misinstance\u001b[39m(data, \u001b[38;5;28mdict\u001b[39m):\n\u001b[0;32m    777\u001b[0m     \u001b[38;5;66;03m# GH#38939 de facto copy defaults to False only in non-dict cases\u001b[39;00m\n\u001b[1;32m--> 778\u001b[0m     mgr \u001b[38;5;241m=\u001b[39m \u001b[43mdict_to_mgr\u001b[49m\u001b[43m(\u001b[49m\u001b[43mdata\u001b[49m\u001b[43m,\u001b[49m\u001b[43m \u001b[49m\u001b[43mindex\u001b[49m\u001b[43m,\u001b[49m\u001b[43m \u001b[49m\u001b[43mcolumns\u001b[49m\u001b[43m,\u001b[49m\u001b[43m \u001b[49m\u001b[43mdtype\u001b[49m\u001b[38;5;241;43m=\u001b[39;49m\u001b[43mdtype\u001b[49m\u001b[43m,\u001b[49m\u001b[43m \u001b[49m\u001b[43mcopy\u001b[49m\u001b[38;5;241;43m=\u001b[39;49m\u001b[43mcopy\u001b[49m\u001b[43m,\u001b[49m\u001b[43m \u001b[49m\u001b[43mtyp\u001b[49m\u001b[38;5;241;43m=\u001b[39;49m\u001b[43mmanager\u001b[49m\u001b[43m)\u001b[49m\n\u001b[0;32m    779\u001b[0m \u001b[38;5;28;01melif\u001b[39;00m \u001b[38;5;28misinstance\u001b[39m(data, ma\u001b[38;5;241m.\u001b[39mMaskedArray):\n\u001b[0;32m    780\u001b[0m     \u001b[38;5;28;01mfrom\u001b[39;00m \u001b[38;5;21;01mnumpy\u001b[39;00m\u001b[38;5;21;01m.\u001b[39;00m\u001b[38;5;21;01mma\u001b[39;00m \u001b[38;5;28;01mimport\u001b[39;00m mrecords\n",
      "File \u001b[1;32mc:\\Users\\11056\\anaconda3\\envs\\packdev\\Lib\\site-packages\\pandas\\core\\internals\\construction.py:503\u001b[0m, in \u001b[0;36mdict_to_mgr\u001b[1;34m(data, index, columns, dtype, typ, copy)\u001b[0m\n\u001b[0;32m    499\u001b[0m     \u001b[38;5;28;01melse\u001b[39;00m:\n\u001b[0;32m    500\u001b[0m         \u001b[38;5;66;03m# dtype check to exclude e.g. range objects, scalars\u001b[39;00m\n\u001b[0;32m    501\u001b[0m         arrays \u001b[38;5;241m=\u001b[39m [x\u001b[38;5;241m.\u001b[39mcopy() \u001b[38;5;28;01mif\u001b[39;00m \u001b[38;5;28mhasattr\u001b[39m(x, \u001b[38;5;124m\"\u001b[39m\u001b[38;5;124mdtype\u001b[39m\u001b[38;5;124m\"\u001b[39m) \u001b[38;5;28;01melse\u001b[39;00m x \u001b[38;5;28;01mfor\u001b[39;00m x \u001b[38;5;129;01min\u001b[39;00m arrays]\n\u001b[1;32m--> 503\u001b[0m \u001b[38;5;28;01mreturn\u001b[39;00m \u001b[43marrays_to_mgr\u001b[49m\u001b[43m(\u001b[49m\u001b[43marrays\u001b[49m\u001b[43m,\u001b[49m\u001b[43m \u001b[49m\u001b[43mcolumns\u001b[49m\u001b[43m,\u001b[49m\u001b[43m \u001b[49m\u001b[43mindex\u001b[49m\u001b[43m,\u001b[49m\u001b[43m \u001b[49m\u001b[43mdtype\u001b[49m\u001b[38;5;241;43m=\u001b[39;49m\u001b[43mdtype\u001b[49m\u001b[43m,\u001b[49m\u001b[43m \u001b[49m\u001b[43mtyp\u001b[49m\u001b[38;5;241;43m=\u001b[39;49m\u001b[43mtyp\u001b[49m\u001b[43m,\u001b[49m\u001b[43m \u001b[49m\u001b[43mconsolidate\u001b[49m\u001b[38;5;241;43m=\u001b[39;49m\u001b[43mcopy\u001b[49m\u001b[43m)\u001b[49m\n",
      "File \u001b[1;32mc:\\Users\\11056\\anaconda3\\envs\\packdev\\Lib\\site-packages\\pandas\\core\\internals\\construction.py:114\u001b[0m, in \u001b[0;36marrays_to_mgr\u001b[1;34m(arrays, columns, index, dtype, verify_integrity, typ, consolidate)\u001b[0m\n\u001b[0;32m    111\u001b[0m \u001b[38;5;28;01mif\u001b[39;00m verify_integrity:\n\u001b[0;32m    112\u001b[0m     \u001b[38;5;66;03m# figure out the index, if necessary\u001b[39;00m\n\u001b[0;32m    113\u001b[0m     \u001b[38;5;28;01mif\u001b[39;00m index \u001b[38;5;129;01mis\u001b[39;00m \u001b[38;5;28;01mNone\u001b[39;00m:\n\u001b[1;32m--> 114\u001b[0m         index \u001b[38;5;241m=\u001b[39m \u001b[43m_extract_index\u001b[49m\u001b[43m(\u001b[49m\u001b[43marrays\u001b[49m\u001b[43m)\u001b[49m\n\u001b[0;32m    115\u001b[0m     \u001b[38;5;28;01melse\u001b[39;00m:\n\u001b[0;32m    116\u001b[0m         index \u001b[38;5;241m=\u001b[39m ensure_index(index)\n",
      "File \u001b[1;32mc:\\Users\\11056\\anaconda3\\envs\\packdev\\Lib\\site-packages\\pandas\\core\\internals\\construction.py:677\u001b[0m, in \u001b[0;36m_extract_index\u001b[1;34m(data)\u001b[0m\n\u001b[0;32m    675\u001b[0m lengths \u001b[38;5;241m=\u001b[39m \u001b[38;5;28mlist\u001b[39m(\u001b[38;5;28mset\u001b[39m(raw_lengths))\n\u001b[0;32m    676\u001b[0m \u001b[38;5;28;01mif\u001b[39;00m \u001b[38;5;28mlen\u001b[39m(lengths) \u001b[38;5;241m>\u001b[39m \u001b[38;5;241m1\u001b[39m:\n\u001b[1;32m--> 677\u001b[0m     \u001b[38;5;28;01mraise\u001b[39;00m \u001b[38;5;167;01mValueError\u001b[39;00m(\u001b[38;5;124m\"\u001b[39m\u001b[38;5;124mAll arrays must be of the same length\u001b[39m\u001b[38;5;124m\"\u001b[39m)\n\u001b[0;32m    679\u001b[0m \u001b[38;5;28;01mif\u001b[39;00m have_dicts:\n\u001b[0;32m    680\u001b[0m     \u001b[38;5;28;01mraise\u001b[39;00m \u001b[38;5;167;01mValueError\u001b[39;00m(\n\u001b[0;32m    681\u001b[0m         \u001b[38;5;124m\"\u001b[39m\u001b[38;5;124mMixing dicts with non-Series may lead to ambiguous ordering.\u001b[39m\u001b[38;5;124m\"\u001b[39m\n\u001b[0;32m    682\u001b[0m     )\n",
      "\u001b[1;31mValueError\u001b[0m: All arrays must be of the same length"
     ]
    }
   ],
   "source": [
    "# Run this to store the outputs.\n",
    "for row in range(len(table)):\n",
    "    residue_data = {\n",
    "        'residue': list(table[row, 'sequence'].value),\n",
    "        'bfactor': table[row, 'bfactor'].value,\n",
    "        'sasa': table[row, 'sasa'].value,\n",
    "        'corex': table[row, 'corex'].value,\n",
    "        'entropy': table[row, 'entropy'].value,\n",
    "        'aggregate': table[row, 'aggregate'].value,\n",
    "        'likelihood': table[row, 'residue_likelihood'].value\n",
    "    }\n",
    "    _df = pd.DataFrame(residue_data)\n",
    "    _id = table[row, 'pdb_id'].value\n",
    "    _base = os.path.join(store_path, _id)\n",
    "    os.makedirs(_base, exist_ok=True)\n",
    "    _df.to_excel(os.path.join(_base, f'{_id}_residue.xlsx'))\n",
    "    with open(os.path.join(_base, f'{_id}.fasta'), 'w') as f:\n",
    "        f.write(table[row, 'blast'].value)\n",
    "    with open(os.path.join(_base, f'{_id}.pdb'), 'w') as f:\n",
    "        f.write(table[row, 'pdb'].value)\n",
    "    if table[row, 'mhc'] is not None:\n",
    "        _df = pd.read_json(io.StringIO(table[0, 'mhc'].value))\n",
    "        _df.to_excel(os.path.join(_base, f'{_id}_mhc.xlsx'))\n",
    "    if table[row, 'combined'] is not None:\n",
    "        _df = pd.read_json(io.StringIO(table[0, 'combined'].value))\n",
    "        _df['APL'] = table[row, 'peptide_likelihood'].value\n",
    "        _df.to_excel(os.path.join(_base, f'{_id}_combined.xlsx'))"
   ]
  },
  {
   "cell_type": "code",
   "execution_count": 5,
   "metadata": {},
   "outputs": [
    {
     "data": {
      "text/markdown": [
       "### APL-MHC (Local Files)  \n",
       "\n",
       "Run APL, MHC, and bind them for local PDB files.  \n",
       "  \n",
       "#### Parameters  \n",
       "- **path**: (string:**string**)=`None`; The path to the target file; (`None`)   \n",
       "- **chain**: (string:**PDB Chain IDs**)_[OPTIONAL]_=`A`; The selected protein chains ID.; (`[A-Za-z0-9]+(,[A-Za-z0-9]+)*`) The protein chain ids, seperate with `,`, no blank character.  \n",
       "- **window_size**: (number:**float>1**)_[OPTIONAL]_=`10`; The protein folding unit size. Also, the number of partition schemes.; (`{'min': 1}`) The float number that is greater than 1.  \n",
       "- **min_size**: (number:**float>1**)_[OPTIONAL]_=`4`; The minumum protein folding unit size.; (`{'min': 1}`) The float number that is greater than 1.  \n",
       "- **samples**: (number:**float>1**)_[OPTIONAL]_=`10000`; (Ignore for exhaustive sampling) The sample number for each partition scheme. Total sample number=samples*window_size.; (`{'min': 1}`) The float number that is greater than 1.  \n",
       "- **sampler**: (string:**COREX Sampler**)_[OPTIONAL]_=`exhaustive`; The COREX states sampler; (`(exhaustive|montecarlo|adaptive)`) (exhaustive|montecarlo|adaptive) The COREX micro-states sampler, which could be exhaustive enumerate, Monte Carlo, or Adaptibe Monte Carlo sampler.  \n",
       "- **threshold**: (number:**float>0**)_[OPTIONAL]_=`0.75`; (Ignore for exhaustive sampling) The threshold for the sampler.; (`{'min': 0}`) The float number that is greater than 0.  \n",
       "- **sconf_weight**: (number:**float>0**)_[OPTIONAL]_=`1.0`; Entropy factor.; (`{'min': 0}`) The float number that is greater than 0.  \n",
       "- **base_fraction**: (number:**float>0**)_[OPTIONAL]_=`1.0`; The base fraction used to sum all COREX (ln_kf) values.; (`{'min': 0}`) The float number that is greater than 0.  \n",
       "- **probe_radius**: (number:**float>1**)_[OPTIONAL]_=`1.4`; The probe radius for SASA in A.; (`{'min': 1}`) The float number that is greater than 1.  \n",
       "- **n_points**: (number:**float>1**)_[OPTIONAL]_=`1000`; The number of test points in Shrake & Rupley algorithm for SASA.; (`{'min': 1}`) The float number that is greater than 1.  \n",
       "- **algorithm**: (string:**SASA Algorithm**)_[OPTIONAL]_=`ShrakeRupley`; The SASA algorithms.; (`(ShrakeRupley|LeeRichards)`) (ShrakeRupley|LeeRichards) The SASA Algorithm that could be ShrakeRupley or LeeRichards.  \n",
       "- **n_slices**: (number:**float>1**)_[OPTIONAL]_=`20`; Get the number of slices per atom in Lee & Richards algorithm.; (`{'min': 1}`) The float number that is greater than 1.  \n",
       "- **record**: (string:**PDB record**)_[OPTIONAL]_=`ATOM`; The PDB record for B-Factor extraction.; (`(ATOM|HETATM)`) (ATOM|HETATM) PDB record names which could be ATOM or HETATM  \n",
       "- **db**: (string:**BLAST Databases**)_[OPTIONAL]_=`uniref50`; The BLAST database could be `uniref50`; (`(uniref50)`) The BLAST database could be `uniref50`  \n",
       "- **expect_value**: (number:**float>0**)_[OPTIONAL]_=`10`; The expect threshold sets the maximum e-value threshold for hits to be reported. Lower values make the search more stringent.; (`{'min': 0}`) The float number that is greater than 0.  \n",
       "- **word_size**: (number:**float>0**)_[OPTIONAL]_=`3`; This is the size of initial words or seed matches used in the search. Smaller values increase sensitivity but can slow down the search.; (`{'min': 0}`) The float number that is greater than 0.  \n",
       "- **max_target_seqs**: (number:**float>1**)_[OPTIONAL]_=`500`; Specifies the maximum number of aligned sequences to return. Increasing this will yield more hits.; (`{'min': 1}`) The float number that is greater than 1.  \n",
       "- **matrix**: (string:**BLAST Matrix**)_[OPTIONAL]_=`BLOSUM62`; Different matrices can affect the sensitivity for detecting homologous sequences.; (`(BLOSUM45|BLOSUM50|BLOSUM62|BLOSUM80|BLOSUM90|PAM30|PAM70|PAM250)`)  Different matrices can affect the sensitivity for detecting homologous sequences.  \n",
       "- **mer_size**: (number:**float>1**)_[OPTIONAL]_=`15`; The size of each mer of the sequence.; (`{'min': 1}`) The float number that is greater than 1.  \n",
       "- **hop**: (number:**float>1**)_[OPTIONAL]_=`7`; The size of each hop of mers.; (`{'min': 1}`) The float number that is greater than 1.  \n",
       "- **flank_size**: (number:**float>1**)_[OPTIONAL]_=`20`; The flank size of APL.; (`{'min': 1}`) The float number that is greater than 1.  \n",
       "- **loop_size**: (number:**float>1**)_[OPTIONAL]_=`21`; The loop size of APL.; (`{'min': 1}`) The float number that is greater than 1.  \n",
       "- **w_entropy**: (number:**float>0**)_[OPTIONAL]_=`0.3474973544973545`; The weight for entropy.; (`{'min': 0}`) The float number that is greater than 0.  \n",
       "- **w_bfactor**: (number:**float>0**)_[OPTIONAL]_=`0.1643121693121693`; The weight for B-factor.; (`{'min': 0}`) The float number that is greater than 0.  \n",
       "- **w_corex**: (number:**float>0**)_[OPTIONAL]_=`0.2651851851851852`; The weight for COREX.; (`{'min': 0}`) The float number that is greater than 0.  \n",
       "- **w_sasa**: (number:**float>0**)_[OPTIONAL]_=`0.22300529100529098`; The weight for SASA.; (`{'min': 0}`) The float number that is greater than 0.  \n",
       "- **alleles**: (string:**Protein Amio Acid Sequence**)_[OPTIONAL]_=`HLA-DRB1*03:01`; The alleles for this sequence, seperate by `,`.; (`None`) The protein amio acid sequence  \n",
       "- **method**: (string:**The IEDB MHC-II Methods**)_[OPTIONAL]_=`recommended`; The method used to compute MHC-II binding.; (`(recommended|ann|consensus|netmhccons|netmhcpan|netmhcstabpan|pickpocket|smm|smmpmbec)`) The IEDB MHC-II prediction methods.  \n",
       "- **w_apl**: (number:**float>0**)_[OPTIONAL]_=`0.5`; The weight for APL. The weight for MHC will be `1-w_apl`.; (`{'min': 0}`) The float number that is greater than 0.  \n",
       "- **apl_threshold**: (number:**float>=0**)_[OPTIONAL]_=`0`; The threshold for APL. If the value is smaller than this threshold, it will be ignored.; (`{'min': -0.0001}`) The float number that is greater or equal than 0.  \n",
       "- **mhc_threshold**: (number:**float>=0**)_[OPTIONAL]_=`0`; The threshold for MHC. If the value is smaller than this threshold, it will be ignored.; (`{'min': -0.0001}`) The float number that is greater or equal than 0.  \n",
       "#### Returns  \n",
       "- **pdb**: (string:**PDB File**)=`None`; The output PDB file that only contains selected chains.; (`None`) The protein PDB file  \n",
       "- **pdb_id**: (string:**string**)=`None`; The file name; (`None`)   \n",
       "- **chain**: (string:**PDB Chain IDs**)=`None`; The chains contained in the PDB files.; (`[A-Za-z0-9]+(,[A-Za-z0-9]+)*`) The protein chain ids, seperate with `,`, no blank character.  \n",
       "- **corex**: (numarray:**COREX (ln(kf)) Values**)=`None`; The COREX values. The order is the same order as the PDB.; (`None`) COREX Values in Sorted Chain ID Order  \n",
       "- **sasa**: (numarray:**SASA Values**)=`None`; The solvent accessible surface area. The order is the same order as the PDB.; (`None`) SASA Values in Sorted Chain ID Order  \n",
       "- **bfactor**: (numarray:**B-Factor Values**)=`None`; The B-Factor. The order is the same order as the PDB.; (`None`) B-Factor values in given PDB file atom orders  \n",
       "- **sequence**: (string:**Protein Amio Acid Sequence**)=`None`; The protein amio acid sequence. The order is the same order as the PDB.; (`[ACDEFGHIKLMNPQRSTVWY?]+`) The protein amio acid sequence  \n",
       "- **blast**: (string:**FASTA Sequence**)=`None`; The BLAST outpus in FASTA format.; (`None`) The FASTA sequence file  \n",
       "- **entropy**: (numarray:**Sequence Entropy Values**)=`None`; The sequence entropy of the given sequence based on the alignments.; (`None`) Sequence Entropy Values in Sorted Chain ID Order  \n",
       "- **residue_likelihood**: (numarray:**Residue Likelihood**)=`None`; Residue Level Likelihood.; (`None`) Residue Level Likelihood  \n",
       "- **peptide_likelihood**: (numarray:**Peptide Likelihood**)=`None`; Peptide Level Likelihood.; (`None`) Peptide Level Likelihood  \n",
       "- **aggregate**: (numarray:**Residue Level Aggregated Score**)=`None`; Residue Level Aggregated Score.; (`None`) Residue Level Aggregated Score  \n",
       "- **mhc**: (string:**JSON File**)=`None`; The MHC-II binding outputs from IEDB following JSON formats; (`None`) The JSON format file  \n",
       "- **combined**: (string:**JSON File**)=`None`; Combined APL-MHC values for each MHC class.; (`None`) The JSON format file  \n"
      ],
      "text/plain": [
       "< local[LOCAL]: APL-MHC (Local Files) Blocks=12 >"
      ]
     },
     "execution_count": 5,
     "metadata": {},
     "output_type": "execute_result"
    }
   ],
   "source": [
    "# More parameter for customization\n",
    "workbench['apl-mhc']"
   ]
  }
 ],
 "metadata": {
  "kernelspec": {
   "display_name": "packdev",
   "language": "python",
   "name": "python3"
  },
  "language_info": {
   "codemirror_mode": {
    "name": "ipython",
    "version": 3
   },
   "file_extension": ".py",
   "mimetype": "text/x-python",
   "name": "python",
   "nbconvert_exporter": "python",
   "pygments_lexer": "ipython3",
   "version": "3.12.5"
  }
 },
 "nbformat": 4,
 "nbformat_minor": 4
}
