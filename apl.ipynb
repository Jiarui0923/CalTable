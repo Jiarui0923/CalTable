{
 "cells": [
  {
   "cell_type": "code",
   "execution_count": null,
   "metadata": {},
   "outputs": [],
   "source": [
    "# Installation\n",
    "!pip install -U caltable --index-url https://jellyroll.cs.tulane.edu/pypi/simple/\n",
    "# or\n",
    "!pip install ./caltable-1.0.1.zip"
   ]
  },
  {
   "cell_type": "code",
   "execution_count": 3,
   "metadata": {},
   "outputs": [],
   "source": [
    "import caltable as ct\n",
    "import os\n",
    "import io\n",
    "import pandas as pd\n",
    "from pathlib import Path\n",
    "workbench = ct.WorkBench.load('apl.workbench.json')"
   ]
  },
  {
   "cell_type": "code",
   "execution_count": 4,
   "metadata": {},
   "outputs": [],
   "source": [
    "# Setup input and output path here\n",
    "path = './data' # The path to the folder storing your PDB files\n",
    "store_path = './output' # Where to store the outputs\n",
    "\n",
    "table = ct.DataTable([{'path':str(file)} for file in Path(path).glob('*.pdb') ])\n",
    "# Change parameter here\n",
    "table[:, 'chain'] = 'A' # Select chain\n",
    "table[:, 'sampler'] = 'exhaustive' # Choose sampling method\n",
    "table[:, 'sconf_weight'] = 1.0 # Select entropy factor\n",
    "table[:, 'mer_size'] = 15 # Set mer size for both MHC prediction and APL prediction\n",
    "table[:, 'hop'] = 7# Set hop size (mer overlap) for both MHC prediction and APL prediction"
   ]
  },
  {
   "cell_type": "code",
   "execution_count": 10,
   "metadata": {},
   "outputs": [
    {
     "name": "stdout",
     "output_type": "stream",
     "text": [
      "[0.4s] ✓ Task (APL) Antigen Processing Likelihood Finished.ed.ction factors Finished."
     ]
    }
   ],
   "source": [
    "# Run this to only compute APL\n",
    "table = workbench['apl-only'](table)"
   ]
  },
  {
   "cell_type": "code",
   "execution_count": 13,
   "metadata": {},
   "outputs": [
    {
     "name": "stdout",
     "output_type": "stream",
     "text": [
      "[0.1s] ✓ Task Weighted Combine APL And MHC Finished..ished.ed.ction factors Finished.."
     ]
    }
   ],
   "source": [
    "# Run this to compute both MHC & APL\n",
    "table[:, 'alleles'] = 'HLA-DRB1*03:01,HLA-DRB1*07:01,HLA-DRB1*15:01' # Select Alleles, alleles separate by ,\n",
    "\n",
    "table = workbench['apl-mhc'](table)"
   ]
  },
  {
   "cell_type": "code",
   "execution_count": 6,
   "metadata": {},
   "outputs": [
    {
     "data": {
      "text/html": [
       "<div>\n",
       "<style scoped>\n",
       "    .dataframe tbody tr th:only-of-type {\n",
       "        vertical-align: middle;\n",
       "    }\n",
       "\n",
       "    .dataframe tbody tr th {\n",
       "        vertical-align: top;\n",
       "    }\n",
       "\n",
       "    .dataframe thead th {\n",
       "        text-align: right;\n",
       "    }\n",
       "</style>\n",
       "<table border=\"1\" class=\"dataframe\">\n",
       "  <thead>\n",
       "    <tr style=\"text-align: right;\">\n",
       "      <th></th>\n",
       "      <th>path</th>\n",
       "      <th>chain</th>\n",
       "      <th>sampler</th>\n",
       "      <th>sconf_weight</th>\n",
       "      <th>mer_size</th>\n",
       "      <th>hop</th>\n",
       "      <th>pdb_id</th>\n",
       "      <th>pdb</th>\n",
       "      <th>corex</th>\n",
       "      <th>sasa</th>\n",
       "      <th>bfactor</th>\n",
       "      <th>sequence</th>\n",
       "      <th>blast</th>\n",
       "      <th>entropy</th>\n",
       "      <th>residue_likelihood</th>\n",
       "      <th>peptide_likelihood</th>\n",
       "      <th>aggregate</th>\n",
       "    </tr>\n",
       "  </thead>\n",
       "  <tbody>\n",
       "    <tr>\n",
       "      <th>0</th>\n",
       "      <td>data\\6cdb.pdb</td>\n",
       "      <td>A</td>\n",
       "      <td>exhaustive</td>\n",
       "      <td>1.0</td>\n",
       "      <td>15</td>\n",
       "      <td>7</td>\n",
       "      <td>6cdb</td>\n",
       "      <td>PDB:821 lines</td>\n",
       "      <td>COREX (ln(kf)) Values:[-5.000873006361232, -5....</td>\n",
       "      <td>SASA Values:[1.2696183006775639, 0.84657581949...</td>\n",
       "      <td>B-Factor Values:[79.72, 72.64, 64.68]...(97)</td>\n",
       "      <td>Protein Amio Acid Sequence:SEINTDTLERVTEIFK......</td>\n",
       "      <td>FASTA Sequence:&gt;UniRef50_Q2FWB0...(54949)</td>\n",
       "      <td>numarray:[0.5629006142273706, 0.73932470404379...</td>\n",
       "      <td>Residue Likelihood:[0.0, 0.0, 0.0]...(97)</td>\n",
       "      <td>Peptide Likelihood:[0.0, 0.16078940049011084, ...</td>\n",
       "      <td>Residue Level Aggregated Score:[-1.33188812909...</td>\n",
       "    </tr>\n",
       "  </tbody>\n",
       "</table>\n",
       "</div>"
      ],
      "text/plain": [
       "            path chain     sampler sconf_weight mer_size hop pdb_id  \\\n",
       "0  data\\6cdb.pdb     A  exhaustive          1.0       15   7   6cdb   \n",
       "\n",
       "             pdb                                              corex  \\\n",
       "0  PDB:821 lines  COREX (ln(kf)) Values:[-5.000873006361232, -5....   \n",
       "\n",
       "                                                sasa  \\\n",
       "0  SASA Values:[1.2696183006775639, 0.84657581949...   \n",
       "\n",
       "                                        bfactor  \\\n",
       "0  B-Factor Values:[79.72, 72.64, 64.68]...(97)   \n",
       "\n",
       "                                            sequence  \\\n",
       "0  Protein Amio Acid Sequence:SEINTDTLERVTEIFK......   \n",
       "\n",
       "                                       blast  \\\n",
       "0  FASTA Sequence:>UniRef50_Q2FWB0...(54949)   \n",
       "\n",
       "                                             entropy  \\\n",
       "0  numarray:[0.5629006142273706, 0.73932470404379...   \n",
       "\n",
       "                          residue_likelihood  \\\n",
       "0  Residue Likelihood:[0.0, 0.0, 0.0]...(97)   \n",
       "\n",
       "                                  peptide_likelihood  \\\n",
       "0  Peptide Likelihood:[0.0, 0.16078940049011084, ...   \n",
       "\n",
       "                                           aggregate  \n",
       "0  Residue Level Aggregated Score:[-1.33188812909...  "
      ]
     },
     "execution_count": 6,
     "metadata": {},
     "output_type": "execute_result"
    }
   ],
   "source": [
    "table"
   ]
  },
  {
   "cell_type": "code",
   "execution_count": 7,
   "metadata": {},
   "outputs": [],
   "source": [
    "# Run this to store the outputs.\n",
    "for row in range(len(table)):\n",
    "    residue_data = {\n",
    "        'residue': list(table[row, 'sequence'].value),\n",
    "        'bfactor': table[row, 'bfactor'].value,\n",
    "        'sasa': table[row, 'sasa'].value,\n",
    "        'corex': table[row, 'corex'].value,\n",
    "        'entropy': table[row, 'entropy'].value,\n",
    "        'aggregate': table[row, 'aggregate'].value,\n",
    "        'likelihood': table[row, 'residue_likelihood'].value\n",
    "    }\n",
    "    _df = pd.DataFrame(residue_data)\n",
    "    _id = table[row, 'pdb_id'].value\n",
    "    _base = os.path.join(store_path, _id)\n",
    "    os.makedirs(_base, exist_ok=True)\n",
    "    _df.to_excel(os.path.join(_base, f'{_id}_residue.xlsx'))\n",
    "    with open(os.path.join(_base, f'{_id}.fasta'), 'w') as f:\n",
    "        f.write(table[row, 'blast'].value)\n",
    "    with open(os.path.join(_base, f'{_id}.pdb'), 'w') as f:\n",
    "        f.write(table[row, 'pdb'].value)\n",
    "    if table[row, 'mhc'] is not None:\n",
    "        _df = pd.read_json(io.StringIO(table[0, 'mhc'].value))\n",
    "        _df.to_excel(os.path.join(_base, f'{_id}_mhc.xlsx'))\n",
    "    if table[row, 'combined'] is not None:\n",
    "        _df = pd.read_json(io.StringIO(table[0, 'combined'].value))\n",
    "        _df['APL'] = table[row, 'peptide_likelihood'].value\n",
    "        _df.to_excel(os.path.join(_base, f'{_id}_combined.xlsx'))"
   ]
  },
  {
   "cell_type": "code",
   "execution_count": 9,
   "metadata": {},
   "outputs": [
    {
     "data": {
      "text/markdown": [
       "### APL-MHC (Local Files)  \n",
       "\n",
       "Run APL, MHC, and bind them for local PDB files.  \n",
       "  \n",
       "#### Parameters  \n",
       "- **path**: (string:**string**)=`None`; The path to the target file; (`None`)   \n",
       "- **chain**: (string:**PDB Chain IDs**)_[OPTIONAL]_=`A`; The selected protein chains ID.; (`[A-Za-z0-9]+(,[A-Za-z0-9]+)*`) The protein chain ids, seperate with `,`, no blank character.  \n",
       "- **window_size**: (number:**float>1**)_[OPTIONAL]_=`10`; The protein folding unit size. Also, the number of partition schemes.; (`{'min': 1}`) The float number that is greater than 1.  \n",
       "- **min_size**: (number:**float>1**)_[OPTIONAL]_=`4`; The minumum protein folding unit size.; (`{'min': 1}`) The float number that is greater than 1.  \n",
       "- **samples**: (number:**float>1**)_[OPTIONAL]_=`10000`; (Ignore for exhaustive sampling) The sample number for each partition scheme. Total sample number=samples*window_size.; (`{'min': 1}`) The float number that is greater than 1.  \n",
       "- **sampler**: (string:**COREX Sampler**)_[OPTIONAL]_=`exhaustive`; The COREX states sampler; (`(exhaustive|montecarlo|adaptive)`) (exhaustive|montecarlo|adaptive) The COREX micro-states sampler, which could be exhaustive enumerate, Monte Carlo, or Adaptibe Monte Carlo sampler.  \n",
       "- **threshold**: (number:**float>0**)_[OPTIONAL]_=`0.75`; (Ignore for exhaustive sampling) The threshold for the sampler.; (`{'min': 0}`) The float number that is greater than 0.  \n",
       "- **sconf_weight**: (number:**float>0**)_[OPTIONAL]_=`1.0`; Entropy factor.; (`{'min': 0}`) The float number that is greater than 0.  \n",
       "- **base_fraction**: (number:**float>0**)_[OPTIONAL]_=`1.0`; The base fraction used to sum all COREX (ln_kf) values.; (`{'min': 0}`) The float number that is greater than 0.  \n",
       "- **probe_radius**: (number:**float>1**)_[OPTIONAL]_=`1.4`; The probe radius for SASA in A.; (`{'min': 1}`) The float number that is greater than 1.  \n",
       "- **n_points**: (number:**float>1**)_[OPTIONAL]_=`1000`; The number of test points in Shrake & Rupley algorithm for SASA.; (`{'min': 1}`) The float number that is greater than 1.  \n",
       "- **algorithm**: (string:**SASA Algorithm**)_[OPTIONAL]_=`ShrakeRupley`; The SASA algorithms.; (`(ShrakeRupley|LeeRichards)`) (ShrakeRupley|LeeRichards) The SASA Algorithm that could be ShrakeRupley or LeeRichards.  \n",
       "- **n_slices**: (number:**float>1**)_[OPTIONAL]_=`20`; Get the number of slices per atom in Lee & Richards algorithm.; (`{'min': 1}`) The float number that is greater than 1.  \n",
       "- **record**: (string:**PDB record**)_[OPTIONAL]_=`ATOM`; The PDB record for B-Factor extraction.; (`(ATOM|HETATM)`) (ATOM|HETATM) PDB record names which could be ATOM or HETATM  \n",
       "- **db**: (string:**BLAST Databases**)_[OPTIONAL]_=`uniref50`; The BLAST database could be `uniref50`; (`(uniref50)`) The BLAST database could be `uniref50`  \n",
       "- **expect_value**: (number:**float>0**)_[OPTIONAL]_=`10`; The expect threshold sets the maximum e-value threshold for hits to be reported. Lower values make the search more stringent.; (`{'min': 0}`) The float number that is greater than 0.  \n",
       "- **word_size**: (number:**float>0**)_[OPTIONAL]_=`3`; This is the size of initial words or seed matches used in the search. Smaller values increase sensitivity but can slow down the search.; (`{'min': 0}`) The float number that is greater than 0.  \n",
       "- **max_target_seqs**: (number:**float>1**)_[OPTIONAL]_=`500`; Specifies the maximum number of aligned sequences to return. Increasing this will yield more hits.; (`{'min': 1}`) The float number that is greater than 1.  \n",
       "- **matrix**: (string:**BLAST Matrix**)_[OPTIONAL]_=`BLOSUM62`; Different matrices can affect the sensitivity for detecting homologous sequences.; (`(BLOSUM45|BLOSUM50|BLOSUM62|BLOSUM80|BLOSUM90|PAM30|PAM70|PAM250)`)  Different matrices can affect the sensitivity for detecting homologous sequences.  \n",
       "- **mer_size**: (number:**float>1**)_[OPTIONAL]_=`15`; The size of each mer of the sequence.; (`{'min': 1}`) The float number that is greater than 1.  \n",
       "- **hop**: (number:**float>1**)_[OPTIONAL]_=`7`; The size of each hop of mers.; (`{'min': 1}`) The float number that is greater than 1.  \n",
       "- **flank_size**: (number:**float>1**)_[OPTIONAL]_=`20`; The flank size of APL.; (`{'min': 1}`) The float number that is greater than 1.  \n",
       "- **loop_size**: (number:**float>1**)_[OPTIONAL]_=`21`; The loop size of APL.; (`{'min': 1}`) The float number that is greater than 1.  \n",
       "- **w_entropy**: (number:**float>0**)_[OPTIONAL]_=`0.3474973544973545`; The weight for entropy.; (`{'min': 0}`) The float number that is greater than 0.  \n",
       "- **w_bfactor**: (number:**float>0**)_[OPTIONAL]_=`0.1643121693121693`; The weight for B-factor.; (`{'min': 0}`) The float number that is greater than 0.  \n",
       "- **w_corex**: (number:**float>0**)_[OPTIONAL]_=`0.2651851851851852`; The weight for COREX.; (`{'min': 0}`) The float number that is greater than 0.  \n",
       "- **w_sasa**: (number:**float>0**)_[OPTIONAL]_=`0.22300529100529098`; The weight for SASA.; (`{'min': 0}`) The float number that is greater than 0.  \n",
       "- **alleles**: (string:**Protein Amio Acid Sequence**)_[OPTIONAL]_=`HLA-DRB1*03:01`; The alleles for this sequence, seperate by `,`.; (`None`) The protein amio acid sequence  \n",
       "- **method**: (string:**The IEDB MHC-II Methods**)_[OPTIONAL]_=`recommended`; The method used to compute MHC-II binding.; (`(recommended|ann|consensus|netmhccons|netmhcpan|netmhcstabpan|pickpocket|smm|smmpmbec)`) The IEDB MHC-II prediction methods.  \n",
       "- **w_apl**: (number:**float>0**)_[OPTIONAL]_=`0.5`; The weight for APL. The weight for MHC will be `1-w_apl`.; (`{'min': 0}`) The float number that is greater than 0.  \n",
       "- **apl_threshold**: (number:**float>=0**)_[OPTIONAL]_=`0`; The threshold for APL. If the value is smaller than this threshold, it will be ignored.; (`{'min': -0.0001}`) The float number that is greater or equal than 0.  \n",
       "- **mhc_threshold**: (number:**float>=0**)_[OPTIONAL]_=`0`; The threshold for MHC. If the value is smaller than this threshold, it will be ignored.; (`{'min': -0.0001}`) The float number that is greater or equal than 0.  \n",
       "#### Returns  \n",
       "- **pdb**: (string:**PDB File**)=`None`; The output PDB file that only contains selected chains.; (`None`) The protein PDB file  \n",
       "- **pdb_id**: (string:**string**)=`None`; The file name; (`None`)   \n",
       "- **chain**: (string:**PDB Chain IDs**)=`None`; The chains contained in the PDB files.; (`[A-Za-z0-9]+(,[A-Za-z0-9]+)*`) The protein chain ids, seperate with `,`, no blank character.  \n",
       "- **corex**: (numarray:**COREX (ln(kf)) Values**)=`None`; The COREX values. The order is the same order as the PDB.; (`None`) COREX Values in Sorted Chain ID Order  \n",
       "- **sasa**: (numarray:**SASA Values**)=`None`; The solvent accessible surface area. The order is the same order as the PDB.; (`None`) SASA Values in Sorted Chain ID Order  \n",
       "- **bfactor**: (numarray:**B-Factor Values**)=`None`; The B-Factor. The order is the same order as the PDB.; (`None`) B-Factor values in given PDB file atom orders  \n",
       "- **sequence**: (string:**Protein Amio Acid Sequence**)=`None`; The protein amio acid sequence. The order is the same order as the PDB.; (`[ACDEFGHIKLMNPQRSTVWY?]+`) The protein amio acid sequence  \n",
       "- **blast**: (string:**FASTA Sequence**)=`None`; The BLAST outpus in FASTA format.; (`None`) The FASTA sequence file  \n",
       "- **entropy**: (numarray:**Sequence Entropy Values**)=`None`; The sequence entropy of the given sequence based on the alignments.; (`None`) Sequence Entropy Values in Sorted Chain ID Order  \n",
       "- **residue_likelihood**: (numarray:**Residue Likelihood**)=`None`; Residue Level Likelihood.; (`None`) Residue Level Likelihood  \n",
       "- **peptide_likelihood**: (numarray:**Peptide Likelihood**)=`None`; Peptide Level Likelihood.; (`None`) Peptide Level Likelihood  \n",
       "- **aggregate**: (numarray:**Residue Level Aggregated Score**)=`None`; Residue Level Aggregated Score.; (`None`) Residue Level Aggregated Score  \n",
       "- **mhc**: (string:**JSON File**)=`None`; The MHC-II binding outputs from IEDB following JSON formats; (`None`) The JSON format file  \n",
       "- **combined**: (string:**JSON File**)=`None`; Combined APL-MHC values for each MHC class.; (`None`) The JSON format file  \n"
      ],
      "text/plain": [
       "< local[LOCAL]: APL-MHC (Local Files) Blocks=12 >"
      ]
     },
     "execution_count": 9,
     "metadata": {},
     "output_type": "execute_result"
    }
   ],
   "source": [
    "# More parameter for customization\n",
    "workbench['apl-mhc']"
   ]
  }
 ],
 "metadata": {
  "kernelspec": {
   "display_name": "packdev",
   "language": "python",
   "name": "python3"
  },
  "language_info": {
   "codemirror_mode": {
    "name": "ipython",
    "version": 3
   },
   "file_extension": ".py",
   "mimetype": "text/x-python",
   "name": "python",
   "nbconvert_exporter": "python",
   "pygments_lexer": "ipython3",
   "version": "3.12.5"
  }
 },
 "nbformat": 4,
 "nbformat_minor": 4
}
